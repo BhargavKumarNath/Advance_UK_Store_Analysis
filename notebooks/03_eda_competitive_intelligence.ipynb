{
 "cells": [
  {
   "cell_type": "code",
   "execution_count": 2,
   "id": "4211c957",
   "metadata": {},
   "outputs": [],
   "source": [
    "import pandas as pd\n",
    "import numpy as np\n",
    "import matplotlib.pyplot as plt\n",
    "import seaborn as sns"
   ]
  },
  {
   "cell_type": "code",
   "execution_count": 3,
   "id": "fdd79d16",
   "metadata": {},
   "outputs": [
    {
     "name": "stdout",
     "output_type": "stream",
     "text": [
      "Cleaned data loaded successfully\n"
     ]
    },
    {
     "data": {
      "text/html": [
       "<div>\n",
       "<style scoped>\n",
       "    .dataframe tbody tr th:only-of-type {\n",
       "        vertical-align: middle;\n",
       "    }\n",
       "\n",
       "    .dataframe tbody tr th {\n",
       "        vertical-align: top;\n",
       "    }\n",
       "\n",
       "    .dataframe thead th {\n",
       "        text-align: right;\n",
       "    }\n",
       "</style>\n",
       "<table border=\"1\" class=\"dataframe\">\n",
       "  <thead>\n",
       "    <tr style=\"text-align: right;\">\n",
       "      <th></th>\n",
       "      <th>supermarket</th>\n",
       "      <th>prices</th>\n",
       "      <th>prices_unit</th>\n",
       "      <th>unit</th>\n",
       "      <th>names</th>\n",
       "      <th>date</th>\n",
       "      <th>category</th>\n",
       "      <th>own_brand</th>\n",
       "    </tr>\n",
       "  </thead>\n",
       "  <tbody>\n",
       "    <tr>\n",
       "      <th>0</th>\n",
       "      <td>Aldi</td>\n",
       "      <td>3.09</td>\n",
       "      <td>0.14</td>\n",
       "      <td>unit</td>\n",
       "      <td>Mamia Ultra-fit Peppa Pig Nappy Pants 22 Pack/...</td>\n",
       "      <td>2024-04-13</td>\n",
       "      <td>baby_products</td>\n",
       "      <td>False</td>\n",
       "    </tr>\n",
       "    <tr>\n",
       "      <th>1</th>\n",
       "      <td>Aldi</td>\n",
       "      <td>3.09</td>\n",
       "      <td>0.17</td>\n",
       "      <td>unit</td>\n",
       "      <td>Mamia Ultra-fit Peppa Pig Nappy Pants 18 Pack/...</td>\n",
       "      <td>2024-04-13</td>\n",
       "      <td>baby_products</td>\n",
       "      <td>False</td>\n",
       "    </tr>\n",
       "    <tr>\n",
       "      <th>2</th>\n",
       "      <td>Aldi</td>\n",
       "      <td>3.59</td>\n",
       "      <td>0.09</td>\n",
       "      <td>unit</td>\n",
       "      <td>Mamia Ultra-fit Nappy Pants 40 Pack/Size 4</td>\n",
       "      <td>2024-04-13</td>\n",
       "      <td>baby_products</td>\n",
       "      <td>False</td>\n",
       "    </tr>\n",
       "  </tbody>\n",
       "</table>\n",
       "</div>"
      ],
      "text/plain": [
       "  supermarket  prices  prices_unit  unit  \\\n",
       "0        Aldi    3.09         0.14  unit   \n",
       "1        Aldi    3.09         0.17  unit   \n",
       "2        Aldi    3.59         0.09  unit   \n",
       "\n",
       "                                               names       date  \\\n",
       "0  Mamia Ultra-fit Peppa Pig Nappy Pants 22 Pack/... 2024-04-13   \n",
       "1  Mamia Ultra-fit Peppa Pig Nappy Pants 18 Pack/... 2024-04-13   \n",
       "2         Mamia Ultra-fit Nappy Pants 40 Pack/Size 4 2024-04-13   \n",
       "\n",
       "        category  own_brand  \n",
       "0  baby_products      False  \n",
       "1  baby_products      False  \n",
       "2  baby_products      False  "
      ]
     },
     "execution_count": 3,
     "metadata": {},
     "output_type": "execute_result"
    }
   ],
   "source": [
    "sns.set_theme(style=\"whitegrid\")\n",
    "plt.rcParams[\"figure.figsize\"] = (12, 6)\n",
    "\n",
    "INTERIM_PATH = \"C:/Project/UK store analysis/data/01_interim/cleaned_supermarket_data.parquet\"\n",
    "df = pd.read_parquet(INTERIM_PATH)\n",
    "\n",
    "print(\"Cleaned data loaded successfully\")\n",
    "df.head(3)"
   ]
  },
  {
   "cell_type": "code",
   "execution_count": 4,
   "id": "67ccec2e",
   "metadata": {},
   "outputs": [
    {
     "name": "stdout",
     "output_type": "stream",
     "text": [
      "Original unique products: 127226\n",
      "Products sold at > 1 retailer: 3303\n",
      "Shape of competitive dataset: (532722, 8)\n"
     ]
    }
   ],
   "source": [
    "# Identify products sold by multiple retailers\n",
    "product_counts = df.groupby(\"names\")[\"supermarket\"].nunique()\n",
    "multi_retailer_products = product_counts[product_counts > 1].index.tolist()\n",
    "\n",
    "# Filter main dataframe to only include comparable products\n",
    "df_comp = df[df[\"names\"].isin(multi_retailer_products)].copy()\n",
    "\n",
    "print(f\"Original unique products: {df[\"names\"].nunique()}\")\n",
    "print(f\"Products sold at > 1 retailer: {len(multi_retailer_products)}\")\n",
    "print(f\"Shape of competitive dataset: {df_comp.shape}\")"
   ]
  },
  {
   "cell_type": "markdown",
   "id": "87b26ccb",
   "metadata": {},
   "source": [
    "## Cross Retailer Price Comparison for Identical Products"
   ]
  },
  {
   "cell_type": "code",
   "execution_count": 5,
   "id": "b0d271aa",
   "metadata": {},
   "outputs": [
    {
     "name": "stdout",
     "output_type": "stream",
     "text": [
      "\n",
      "Price Comparison for latest date: \n"
     ]
    },
    {
     "data": {
      "text/html": [
       "<div>\n",
       "<style scoped>\n",
       "    .dataframe tbody tr th:only-of-type {\n",
       "        vertical-align: middle;\n",
       "    }\n",
       "\n",
       "    .dataframe tbody tr th {\n",
       "        vertical-align: top;\n",
       "    }\n",
       "\n",
       "    .dataframe thead th {\n",
       "        text-align: right;\n",
       "    }\n",
       "</style>\n",
       "<table border=\"1\" class=\"dataframe\">\n",
       "  <thead>\n",
       "    <tr style=\"text-align: right;\">\n",
       "      <th>supermarket</th>\n",
       "      <th>ASDA</th>\n",
       "      <th>Aldi</th>\n",
       "      <th>Morrisons</th>\n",
       "      <th>Sains</th>\n",
       "      <th>Tesco</th>\n",
       "      <th>min_price</th>\n",
       "      <th>max_price</th>\n",
       "      <th>price_spread</th>\n",
       "      <th>cheapest_supermarket</th>\n",
       "    </tr>\n",
       "    <tr>\n",
       "      <th>names</th>\n",
       "      <th></th>\n",
       "      <th></th>\n",
       "      <th></th>\n",
       "      <th></th>\n",
       "      <th></th>\n",
       "      <th></th>\n",
       "      <th></th>\n",
       "      <th></th>\n",
       "      <th></th>\n",
       "    </tr>\n",
       "  </thead>\n",
       "  <tbody>\n",
       "    <tr>\n",
       "      <th>19 Crimes Chardonnay</th>\n",
       "      <td>9.5</td>\n",
       "      <td>NaN</td>\n",
       "      <td>9.0</td>\n",
       "      <td>NaN</td>\n",
       "      <td>NaN</td>\n",
       "      <td>9.0</td>\n",
       "      <td>9.50</td>\n",
       "      <td>0.50</td>\n",
       "      <td>price_spread</td>\n",
       "    </tr>\n",
       "    <tr>\n",
       "      <th>19 Crimes Red Wine 1.5L</th>\n",
       "      <td>NaN</td>\n",
       "      <td>NaN</td>\n",
       "      <td>NaN</td>\n",
       "      <td>15.50</td>\n",
       "      <td>15.5</td>\n",
       "      <td>15.5</td>\n",
       "      <td>15.50</td>\n",
       "      <td>0.00</td>\n",
       "      <td>price_spread</td>\n",
       "    </tr>\n",
       "    <tr>\n",
       "      <th>19 Crimes Sparkling White</th>\n",
       "      <td>12.0</td>\n",
       "      <td>NaN</td>\n",
       "      <td>9.5</td>\n",
       "      <td>NaN</td>\n",
       "      <td>NaN</td>\n",
       "      <td>9.5</td>\n",
       "      <td>12.00</td>\n",
       "      <td>2.50</td>\n",
       "      <td>price_spread</td>\n",
       "    </tr>\n",
       "    <tr>\n",
       "      <th>19 Crimes The Uprising Red Wine</th>\n",
       "      <td>8.5</td>\n",
       "      <td>NaN</td>\n",
       "      <td>9.0</td>\n",
       "      <td>NaN</td>\n",
       "      <td>NaN</td>\n",
       "      <td>8.5</td>\n",
       "      <td>9.00</td>\n",
       "      <td>0.50</td>\n",
       "      <td>price_spread</td>\n",
       "    </tr>\n",
       "    <tr>\n",
       "      <th>7UP Zero Sugar Lemon &amp; Lime Bottle 500ml</th>\n",
       "      <td>NaN</td>\n",
       "      <td>NaN</td>\n",
       "      <td>NaN</td>\n",
       "      <td>1.75</td>\n",
       "      <td>1.6</td>\n",
       "      <td>1.6</td>\n",
       "      <td>1.75</td>\n",
       "      <td>0.15</td>\n",
       "      <td>price_spread</td>\n",
       "    </tr>\n",
       "  </tbody>\n",
       "</table>\n",
       "</div>"
      ],
      "text/plain": [
       "supermarket                               ASDA  Aldi  Morrisons  Sains  Tesco  \\\n",
       "names                                                                           \n",
       "19 Crimes Chardonnay                       9.5   NaN        9.0    NaN    NaN   \n",
       "19 Crimes Red Wine 1.5L                    NaN   NaN        NaN  15.50   15.5   \n",
       "19 Crimes Sparkling White                 12.0   NaN        9.5    NaN    NaN   \n",
       "19 Crimes The Uprising Red Wine            8.5   NaN        9.0    NaN    NaN   \n",
       "7UP Zero Sugar Lemon & Lime Bottle 500ml   NaN   NaN        NaN   1.75    1.6   \n",
       "\n",
       "supermarket                               min_price  max_price  price_spread  \\\n",
       "names                                                                          \n",
       "19 Crimes Chardonnay                            9.0       9.50          0.50   \n",
       "19 Crimes Red Wine 1.5L                        15.5      15.50          0.00   \n",
       "19 Crimes Sparkling White                       9.5      12.00          2.50   \n",
       "19 Crimes The Uprising Red Wine                 8.5       9.00          0.50   \n",
       "7UP Zero Sugar Lemon & Lime Bottle 500ml        1.6       1.75          0.15   \n",
       "\n",
       "supermarket                              cheapest_supermarket  \n",
       "names                                                          \n",
       "19 Crimes Chardonnay                             price_spread  \n",
       "19 Crimes Red Wine 1.5L                          price_spread  \n",
       "19 Crimes Sparkling White                        price_spread  \n",
       "19 Crimes The Uprising Red Wine                  price_spread  \n",
       "7UP Zero Sugar Lemon & Lime Bottle 500ml         price_spread  "
      ]
     },
     "execution_count": 5,
     "metadata": {},
     "output_type": "execute_result"
    }
   ],
   "source": [
    "# Find min, max and spread of prices for each product on the latest date\n",
    "latest_date = df_comp[\"date\"].max()\n",
    "df_latent = df_comp[df_comp[\"date\"] == latest_date]\n",
    "\n",
    "# Pivot the table to have products as rows and supermarkets as columns\n",
    "price_pivot = df_latent.pivot_table(index=\"names\", columns=\"supermarket\", values=\"prices\")\n",
    "\n",
    "# Calculate key competitive metrics\n",
    "price_pivot[\"min_price\"] = price_pivot.min(axis=1)\n",
    "price_pivot[\"max_price\"] = price_pivot.max(axis=1)\n",
    "price_pivot[\"price_spread\"] = price_pivot[\"max_price\"] - price_pivot[\"min_price\"]\n",
    "\n",
    "# Identify the cheapest retailer for each product\n",
    "price_pivot[\"cheapest_supermarket\"] = price_pivot.idxmin(axis=1)\n",
    "\n",
    "print(\"\\nPrice Comparison for latest date: \")\n",
    "price_pivot.head()"
   ]
  },
  {
   "cell_type": "code",
   "execution_count": null,
   "id": "849690f1",
   "metadata": {},
   "outputs": [
    {
     "name": "stderr",
     "output_type": "stream",
     "text": [
      "C:\\Users\\bharg\\AppData\\Local\\Temp\\ipykernel_46764\\1385370635.py:13: FutureWarning: \n",
      "\n",
      "Passing `palette` without assigning `hue` is deprecated and will be removed in v0.14.0. Assign the `x` variable to `hue` and set `legend=False` for the same effect.\n",
      "\n",
      "  sns.barplot(x=cheapest_counts.index, y=cheapest_counts.values, palette=color_map)\n"
     ]
    },
    {
     "data": {
      "image/png": "[encoded data removed]",
      "text/plain": [
       "<Figure size 1200x600 with 1 Axes>"
      ]
     },
     "metadata": {},
     "output_type": "display_data"
    }
   ],
   "source": [
    "\n",
    "supermarket_cols = ['ASDA', 'Aldi', 'Morrisons', 'Sains', 'Tesco']\n",
    "\n",
    "# Now, find the cheapest supermarket by looking ONLY at those columns\n",
    "price_pivot['cheapest_supermarket'] = price_pivot[supermarket_cols].idxmin(axis=1)\n",
    "\n",
    "# Recalculate the counts\n",
    "cheapest_counts = price_pivot['cheapest_supermarket'].value_counts()\n",
    "\n",
    "plt.figure(figsize=(12, 6))\n",
    "# Create a color map to ensure Aldi is visually distinct\n",
    "color_map = {'Aldi': 'red', 'ASDA': 'green', 'Morrisons': 'orange', 'Sains': 'purple', 'Tesco': 'blue'}\n",
    "sns.barplot(x=cheapest_counts.index, y=cheapest_counts.values, palette=color_map)\n",
    "plt.title('Count of Times Each Supermarket is Cheapest (for Identically Named Products)', fontsize=16)\n",
    "plt.xlabel('Supermarket', fontsize=12)\n",
    "plt.ylabel('Number of Products', fontsize=12)\n",
    "plt.show()"
   ]
  },
  {
   "cell_type": "markdown",
   "id": "6bb7d3aa",
   "metadata": {},
   "source": [
    "Limited Comparability: Only around 3,303 out of 127,226 unique products (~2.6%) have perfectly matching names. This is the single biggest limitation of our current analysis. It means we are comparing a tiny, non-random fraction of the total product universe."
   ]
  },
  {
   "cell_type": "markdown",
   "id": "9d33fd6e",
   "metadata": {},
   "source": [
    "## Product Level Deep Dive Dive and Volatility"
   ]
  },
  {
   "cell_type": "code",
   "execution_count": 8,
   "id": "6f9e2e88",
   "metadata": {},
   "outputs": [
    {
     "name": "stdout",
     "output_type": "stream",
     "text": [
      "\n",
      "Top 10 Products with the Largest Price Spread: \n",
      "supermarket                                         min_price  max_price  \\\n",
      "names                                                                      \n",
      "Oral-B iO 3 Black Electric Toothbrush                   75.00     160.00   \n",
      "Benson & Hedges Blue 20 Cigarettes                      13.00      64.75   \n",
      "Talisker Skye Single Malt Scotch Whisky                 27.00      48.00   \n",
      "Oral-B Vitality Pro Black & Purple Electric Too...      40.00      60.00   \n",
      "Braun Beard Trimmer BT3440                              34.66      52.00   \n",
      "Glenmorangie Lasanta 12 Years Old Single Malt W...      37.50      52.50   \n",
      "L'Oreal Paris Revitalift Laser Renew Anti Agein...      15.00      30.00   \n",
      "Hardys Stamp Chardonnay Semillon                         6.00      20.25   \n",
      "BaByliss Rose Lustre 2400 Hair Dryer                    25.00      38.00   \n",
      "Budweiser Lager Beer Bottles                             4.75      17.00   \n",
      "\n",
      "supermarket                                         price_spread  \n",
      "names                                                             \n",
      "Oral-B iO 3 Black Electric Toothbrush                      85.00  \n",
      "Benson & Hedges Blue 20 Cigarettes                         51.75  \n",
      "Talisker Skye Single Malt Scotch Whisky                    21.00  \n",
      "Oral-B Vitality Pro Black & Purple Electric Too...         20.00  \n",
      "Braun Beard Trimmer BT3440                                 17.34  \n",
      "Glenmorangie Lasanta 12 Years Old Single Malt W...         15.00  \n",
      "L'Oreal Paris Revitalift Laser Renew Anti Agein...         15.00  \n",
      "Hardys Stamp Chardonnay Semillon                           14.25  \n",
      "BaByliss Rose Lustre 2400 Hair Dryer                       13.00  \n",
      "Budweiser Lager Beer Bottles                               12.25  \n",
      "\n",
      "Top 10 Most Volatile Products:\n",
      "names\n",
      "Oral-B iO 3 Pink Electric Toothbrush                        38.963884\n",
      "Silk Cut Purple 20 Cigarettes                               33.673157\n",
      "Oral-B iO 3 Black Electric Toothbrush                       32.583163\n",
      "Benson & Hedges Blue 20 Cigarettes                          25.578837\n",
      "Oral-B Vitality Pro Black & Purple Electric Toothbrushes    16.160281\n",
      "Gillette Intimate Men’s Intimate Hair Trimmer i3            14.871594\n",
      "Remington S8500 Shine Therapy Straightener                  13.343486\n",
      "Lambert & Butler Original Silver Cigarettes Multipack       12.157947\n",
      "Superkings Original Black Cigarettes Multipack              10.111967\n",
      "Tilda Pure Basmati Rice                                      9.884702\n",
      "Name: prices, dtype: float64\n",
      "\n",
      "Top 10 Most Stable (Least Volatile) Products: \n",
      "names\n",
      "Kit Kat Bunny Milk Chocolate Easter Figure Sharing Bag 55g                                         0.0\n",
      "KitKat 8 Egg Hunt Pack 120g                                                                        0.0\n",
      "L'Oreal Paris Casting Natural Gloss Semi Permanent Hair Dye No Amonia Brown Caramel 5.23           0.0\n",
      "L'Oreal Paris Casting Natural Gloss Semi Permanent Hair Dye No Amonia Brown Noisette 4.23          0.0\n",
      "L'Oreal Paris Casting Natural Gloss Semi Permanent Hair Dye No Amonia Light Blonde Canelle 8.23    0.0\n",
      "19 Crimes Red Wine 1.5L                                                                            0.0\n",
      "LEGO Marvel Motorcycle Chase: Spider-Man vs. Doc Ock 76275                                         0.0\n",
      "LEGO Star Wars Clone Trooper & Battle Droid Battle Pack 75372                                      0.0\n",
      "Leffe Brune Abbey Beer Bottle                                                                      0.0\n",
      "got2b Got Gloss Shine Spray 200ml                                                                  0.0\n",
      "Name: prices, dtype: float64\n"
     ]
    }
   ],
   "source": [
    "# Most/Least Competitive Products\n",
    "# Find products with the largest price spread\n",
    "top_spread_products = price_pivot.nlargest(10, \"price_spread\")\n",
    "print(\"\\nTop 10 Products with the Largest Price Spread: \")\n",
    "print(top_spread_products[[\"min_price\", \"max_price\", \"price_spread\"]])\n",
    "\n",
    "# Price volatility analysis\n",
    "# For each product, calculate the standard deviation of its price over time this tells us how much its price fluctuates\n",
    "volatility = df_comp.groupby(\"names\")[\"prices\"].std().sort_values(ascending=False).dropna()\n",
    "\n",
    "print(\"\\nTop 10 Most Volatile Products:\")\n",
    "print(volatility.head(10))\n",
    "\n",
    "print(\"\\nTop 10 Most Stable (Least Volatile) Products: \")\n",
    "print(volatility.tail(10))"
   ]
  },
  {
   "cell_type": "markdown",
   "id": "403352b4",
   "metadata": {},
   "source": [
    "High-Value Items Drive Spread & Volatility: Lists of top spread/volatility products (electric toothbrushes, cigarettes, whisky, hair straighteners) are dominated by high-ticket, non-essential items. This is where retailers have the most room for deep promotions and price differentiation. The most stable items are often new (LEGOs) or have very consistent RRPs."
   ]
  }
 ],
 "metadata": {
  "kernelspec": {
   "display_name": "base",
   "language": "python",
   "name": "python3"
  },
  "language_info": {
   "codemirror_mode": {
    "name": "ipython",
    "version": 3
   },
   "file_extension": ".py",
   "mimetype": "text/x-python",
   "name": "python",
   "nbconvert_exporter": "python",
   "pygments_lexer": "ipython3",
   "version": "3.12.3"
  }
 },
 "nbformat": 4,
 "nbformat_minor": 5
}
