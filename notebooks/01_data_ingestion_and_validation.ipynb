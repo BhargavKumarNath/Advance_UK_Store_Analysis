{
 "cells": [
  {
   "cell_type": "markdown",
   "id": "e6663f0e",
   "metadata": {},
   "source": [
    "DATA: https://www.kaggle.com/datasets/declanmcalinden/time-series-uk-supermarket-data"
   ]
  },
  {
   "cell_type": "code",
   "id": "initial_id",
   "metadata": {
    "collapsed": true,
    "ExecuteTime": {
     "end_time": "2025-06-21T13:23:06.675973Z",
     "start_time": "2025-06-21T13:23:04.755243Z"
    }
   },
   "source": [
    "import pandas as pd\n",
    "import numpy as np\n",
    "import glob\n",
    "import os"
   ],
   "outputs": [],
   "execution_count": 2
  },
  {
   "cell_type": "code",
   "execution_count": 2,
   "id": "b460d917daba2fef",
   "metadata": {
    "ExecuteTime": {
     "end_time": "2025-06-18T19:37:08.176719Z",
     "start_time": "2025-06-18T19:37:08.172197Z"
    }
   },
   "outputs": [],
   "source": [
    "DATA_PATH = \"C:/Project/UK store analysis/data/00_raw/\"\n",
    "INTERIM_PATH = \"C:/Project/UK store analysis/data/01_interim/\""
   ]
  },
  {
   "cell_type": "code",
   "execution_count": 3,
   "id": "b5c6f10521a78c3a",
   "metadata": {
    "ExecuteTime": {
     "end_time": "2025-06-18T19:37:08.196005Z",
     "start_time": "2025-06-18T19:37:08.189679Z"
    }
   },
   "outputs": [
    {
     "name": "stdout",
     "output_type": "stream",
     "text": [
      "['C:/Project/UK store analysis/data/00_raw\\\\All_Data_Aldi.csv', 'C:/Project/UK store analysis/data/00_raw\\\\All_Data_ASDA.csv', 'C:/Project/UK store analysis/data/00_raw\\\\All_Data_Morrisons.csv', 'C:/Project/UK store analysis/data/00_raw\\\\All_Data_Sains.csv', 'C:/Project/UK store analysis/data/00_raw\\\\All_Data_Tesco.csv']\n"
     ]
    }
   ],
   "source": [
    "all_files = glob.glob(os.path.join(DATA_PATH, \"All_Data_*.csv\"))\n",
    "print(all_files)"
   ]
  },
  {
   "cell_type": "code",
   "execution_count": 4,
   "id": "afd3b342b7b59f36",
   "metadata": {
    "ExecuteTime": {
     "end_time": "2025-06-18T19:37:19.085576Z",
     "start_time": "2025-06-18T19:37:08.319896Z"
    }
   },
   "outputs": [
    {
     "name": "stdout",
     "output_type": "stream",
     "text": [
      "Loading C:/Project/UK store analysis/data/00_raw\\All_Data_Aldi.csv...\n",
      "Loading C:/Project/UK store analysis/data/00_raw\\All_Data_ASDA.csv...\n",
      "Loading C:/Project/UK store analysis/data/00_raw\\All_Data_Morrisons.csv...\n",
      "Loading C:/Project/UK store analysis/data/00_raw\\All_Data_Sains.csv...\n",
      "Loading C:/Project/UK store analysis/data/00_raw\\All_Data_Tesco.csv...\n",
      "\n",
      "Data Loading and concatenated successfully\n",
      "<class 'pandas.core.frame.DataFrame'>\n",
      "RangeIndex: 9529242 entries, 0 to 9529241\n",
      "Data columns (total 8 columns):\n",
      " #   Column           Dtype  \n",
      "---  ------           -----  \n",
      " 0   supermarket      object \n",
      " 1   prices_(£)       float64\n",
      " 2   prices_unit_(£)  float64\n",
      " 3   unit             object \n",
      " 4   names            object \n",
      " 5   date             object \n",
      " 6   category         object \n",
      " 7   own_brand        object \n",
      "dtypes: float64(2), object(6)\n",
      "memory usage: 581.6+ MB\n"
     ]
    }
   ],
   "source": [
    "# Load concatenate Data\n",
    "all_files = glob.glob(os.path.join(DATA_PATH, \"All_Data_*.csv\"))\n",
    "\n",
    "# Specify dtypes to handle the ASDA warning proactively\n",
    "# Handle own_brand column properly later\n",
    "dtype_spec = {\n",
    "    \"supermarket\": \"category\",\n",
    "    'prices_(£)': 'float64',\n",
    "    'prices_unit_(£)': 'float64',\n",
    "    'unit': 'object',\n",
    "    'names': 'object',\n",
    "    'date': 'str', # Load as string to ensure correct parsing\n",
    "    'category': 'category', # More memory efficient\n",
    "    'own_brand': 'object'\n",
    "}\n",
    "df_list = []\n",
    "for f in all_files:\n",
    "    print(f\"Loading {f}...\")\n",
    "    df_temp = pd.read_csv(f, dtype=dtype_spec)\n",
    "    df_list.append(df_temp)\n",
    "\n",
    "df = pd.concat(df_list, ignore_index=True)\n",
    "\n",
    "print(\"\\nData Loading and concatenated successfully\")\n",
    "df.info()"
   ]
  },
  {
   "cell_type": "code",
   "execution_count": 11,
   "id": "ac5f1672ce4bae3d",
   "metadata": {
    "ExecuteTime": {
     "end_time": "2025-06-18T19:41:29.724702Z",
     "start_time": "2025-06-18T19:41:29.715132Z"
    }
   },
   "outputs": [
    {
     "name": "stdout",
     "output_type": "stream",
     "text": [
      "Cleaned column names:\n",
      "Index(['supermarket', 'prices', 'prices_unit', 'unit', 'names', 'date',\n",
      "       'category', 'own_brand'],\n",
      "      dtype='object')\n"
     ]
    }
   ],
   "source": [
    "# Clean column names by removing special chars and standardise case\n",
    "import re\n",
    "\n",
    "df.columns = (\n",
    "    df.columns\n",
    "    .str.lower()\n",
    "    .str.replace(r\"[^\\w]+\", \"_\", regex=True)\n",
    "    .str.strip(\"_\")\n",
    ")\n",
    "\n",
    "print(\"Cleaned column names:\")\n",
    "print(df.columns)\n"
   ]
  },
  {
   "cell_type": "code",
   "execution_count": 12,
   "id": "b6d8cc1a9d456d66",
   "metadata": {
    "ExecuteTime": {
     "end_time": "2025-06-18T19:41:31.579731Z",
     "start_time": "2025-06-18T19:41:31.345604Z"
    }
   },
   "outputs": [],
   "source": [
    "# 2. Correct Data Types\n",
    "# Convert date from integer to proper datetime\n",
    "df[\"date\"] = pd.to_datetime(df[\"date\"], format=\"%Y%m%d\")"
   ]
  },
  {
   "cell_type": "code",
   "execution_count": 13,
   "id": "be77ec93f3451ddd",
   "metadata": {
    "ExecuteTime": {
     "end_time": "2025-06-18T19:41:33.273631Z",
     "start_time": "2025-06-18T19:41:33.215531Z"
    }
   },
   "outputs": [
    {
     "name": "stdout",
     "output_type": "stream",
     "text": [
      "\n",
      "Unique values in 'own_brand' before standardization:\n",
      "own_brand\n",
      "False    7131233\n",
      "True     2398009\n",
      "Name: count, dtype: int64\n"
     ]
    }
   ],
   "source": [
    "# 3. Standardise own brand column\n",
    "print(\"\\nUnique values in 'own_brand' before standardization:\")\n",
    "print(df[\"own_brand\"].value_counts(dropna=False))"
   ]
  },
  {
   "cell_type": "code",
   "execution_count": 14,
   "id": "ec251921e1e28bd5",
   "metadata": {
    "ExecuteTime": {
     "end_time": "2025-06-18T19:41:34.862137Z",
     "start_time": "2025-06-18T19:41:34.542322Z"
    }
   },
   "outputs": [
    {
     "name": "stdout",
     "output_type": "stream",
     "text": [
      "\n",
      "Unique values in 'own_brand' after standardization:\n",
      "own_brand\n",
      "False    7131233\n",
      "True     2398009\n",
      "Name: count, dtype: int64\n"
     ]
    }
   ],
   "source": [
    "mapping = {True: True, \"True\": True, False: False, \"False\": False}\n",
    "df[\"own_brand\"] = df[\"own_brand\"].map(mapping).fillna(False).astype(bool)\n",
    "\n",
    "print(\"\\nUnique values in 'own_brand' after standardization:\")\n",
    "print(df[\"own_brand\"].value_counts(dropna=False))\n"
   ]
  },
  {
   "cell_type": "code",
   "execution_count": 15,
   "id": "efc3cdacecdf12f4",
   "metadata": {
    "ExecuteTime": {
     "end_time": "2025-06-18T19:41:38.776249Z",
     "start_time": "2025-06-18T19:41:35.578530Z"
    }
   },
   "outputs": [
    {
     "name": "stdout",
     "output_type": "stream",
     "text": [
      "Data types after initial cleaning\n",
      "<class 'pandas.core.frame.DataFrame'>\n",
      "RangeIndex: 9529242 entries, 0 to 9529241\n",
      "Data columns (total 8 columns):\n",
      " #   Column       Dtype         \n",
      "---  ------       -----         \n",
      " 0   supermarket  object        \n",
      " 1   prices       float64       \n",
      " 2   prices_unit  float64       \n",
      " 3   unit         object        \n",
      " 4   names        object        \n",
      " 5   date         datetime64[ns]\n",
      " 6   category     object        \n",
      " 7   own_brand    bool          \n",
      "dtypes: bool(1), datetime64[ns](1), float64(2), object(4)\n",
      "memory usage: 518.0+ MB\n"
     ]
    }
   ],
   "source": [
    "# 4. Basic string cleaning\n",
    "# Standardise text columns for easier matching later\n",
    "for col in [\"names\", \"category\"]:\n",
    "    df[col] = df[col].str.strip()\n",
    "\n",
    "print(\"Data types after initial cleaning\")\n",
    "df.info()"
   ]
  },
  {
   "cell_type": "markdown",
   "id": "f22b7c7b5061876c",
   "metadata": {},
   "source": [
    "## Data Quality Deep Dive and Issue Logging"
   ]
  },
  {
   "cell_type": "markdown",
   "id": "f595a012ef4e5e77",
   "metadata": {},
   "source": [
    "### Investigating Outrageous price_unit values"
   ]
  },
  {
   "cell_type": "code",
   "execution_count": 20,
   "id": "c55b2ef1a4dccdc4",
   "metadata": {
    "ExecuteTime": {
     "end_time": "2025-06-18T19:44:26.929597Z",
     "start_time": "2025-06-18T19:44:24.223218Z"
    }
   },
   "outputs": [
    {
     "name": "stdout",
     "output_type": "stream",
     "text": [
      "\n",
      "Investigating extreme price_unit value:\n",
      "count    9.528718e+06\n",
      "mean     4.609825e+01\n",
      "min      0.000000e+00\n",
      "25%      3.440000e+00\n",
      "50%      7.700000e+00\n",
      "75%      1.500000e+01\n",
      "max      1.500000e+05\n",
      "std      6.506242e+02\n",
      "Name: prices_unit, dtype: float64\n",
      "\n",
      "Top 10 most expensive items by unit price: \n",
      "        supermarket                                   names  prices  \\\n",
      "8336288       Tesco   Lancashire Farm Whole Milk Yogurt 1Kg  150.00   \n",
      "8504816       Tesco   Lancashire Farm Whole Milk Yogurt 1Kg  150.00   \n",
      "7835671       Tesco  Scholl Fungal Nail Treatment Foot Care  421.05   \n",
      "471499         ASDA         Max Factor Brow Shaper 20 Brown    8.98   \n",
      "471501         ASDA    Max Factor Brow Shaper 30 Deep Brown    8.98   \n",
      "471526         ASDA        Max Factor Brow Shaper 10 Blonde    8.98   \n",
      "516849         ASDA    Max Factor Brow Shaper 30 Deep Brown    8.98   \n",
      "516858         ASDA         Max Factor Brow Shaper 20 Brown    8.98   \n",
      "516878         ASDA        Max Factor Brow Shaper 10 Blonde    8.98   \n",
      "538380         ASDA    Max Factor Brow Shaper 30 Deep Brown    8.98   \n",
      "\n",
      "         prices_unit unit  \n",
      "8336288     150000.0   kg  \n",
      "8504816     150000.0   kg  \n",
      "7835671     110803.5    l  \n",
      "471499       99778.0   kg  \n",
      "471501       99778.0   kg  \n",
      "471526       99778.0   kg  \n",
      "516849       99778.0   kg  \n",
      "516858       99778.0   kg  \n",
      "516878       99778.0   kg  \n",
      "538380       99778.0   kg  \n"
     ]
    }
   ],
   "source": [
    "print(\"\\nInvestigating extreme prices_unit value:\")\n",
    "print(df.describe()[\"prices_unit\"])\n"
   ]
  },
  {
   "cell_type": "code",
   "execution_count": 22,
   "id": "4bf85fcc7a93c676",
   "metadata": {
    "ExecuteTime": {
     "end_time": "2025-06-18T19:45:59.492400Z",
     "start_time": "2025-06-18T19:45:57.805806Z"
    }
   },
   "outputs": [
    {
     "name": "stdout",
     "output_type": "stream",
     "text": [
      "\n",
      "Top 10 most expensive items by unit price: \n"
     ]
    },
    {
     "data": {
      "text/html": [
       "<div>\n",
       "<style scoped>\n",
       "    .dataframe tbody tr th:only-of-type {\n",
       "        vertical-align: middle;\n",
       "    }\n",
       "\n",
       "    .dataframe tbody tr th {\n",
       "        vertical-align: top;\n",
       "    }\n",
       "\n",
       "    .dataframe thead th {\n",
       "        text-align: right;\n",
       "    }\n",
       "</style>\n",
       "<table border=\"1\" class=\"dataframe\">\n",
       "  <thead>\n",
       "    <tr style=\"text-align: right;\">\n",
       "      <th></th>\n",
       "      <th>supermarket</th>\n",
       "      <th>names</th>\n",
       "      <th>prices</th>\n",
       "      <th>prices_unit</th>\n",
       "      <th>unit</th>\n",
       "    </tr>\n",
       "  </thead>\n",
       "  <tbody>\n",
       "    <tr>\n",
       "      <th>8336288</th>\n",
       "      <td>Tesco</td>\n",
       "      <td>Lancashire Farm Whole Milk Yogurt 1Kg</td>\n",
       "      <td>150.00</td>\n",
       "      <td>150000.0</td>\n",
       "      <td>kg</td>\n",
       "    </tr>\n",
       "    <tr>\n",
       "      <th>8504816</th>\n",
       "      <td>Tesco</td>\n",
       "      <td>Lancashire Farm Whole Milk Yogurt 1Kg</td>\n",
       "      <td>150.00</td>\n",
       "      <td>150000.0</td>\n",
       "      <td>kg</td>\n",
       "    </tr>\n",
       "    <tr>\n",
       "      <th>7835671</th>\n",
       "      <td>Tesco</td>\n",
       "      <td>Scholl Fungal Nail Treatment Foot Care</td>\n",
       "      <td>421.05</td>\n",
       "      <td>110803.5</td>\n",
       "      <td>l</td>\n",
       "    </tr>\n",
       "    <tr>\n",
       "      <th>471499</th>\n",
       "      <td>ASDA</td>\n",
       "      <td>Max Factor Brow Shaper 20 Brown</td>\n",
       "      <td>8.98</td>\n",
       "      <td>99778.0</td>\n",
       "      <td>kg</td>\n",
       "    </tr>\n",
       "    <tr>\n",
       "      <th>471501</th>\n",
       "      <td>ASDA</td>\n",
       "      <td>Max Factor Brow Shaper 30 Deep Brown</td>\n",
       "      <td>8.98</td>\n",
       "      <td>99778.0</td>\n",
       "      <td>kg</td>\n",
       "    </tr>\n",
       "    <tr>\n",
       "      <th>471526</th>\n",
       "      <td>ASDA</td>\n",
       "      <td>Max Factor Brow Shaper 10 Blonde</td>\n",
       "      <td>8.98</td>\n",
       "      <td>99778.0</td>\n",
       "      <td>kg</td>\n",
       "    </tr>\n",
       "    <tr>\n",
       "      <th>516849</th>\n",
       "      <td>ASDA</td>\n",
       "      <td>Max Factor Brow Shaper 30 Deep Brown</td>\n",
       "      <td>8.98</td>\n",
       "      <td>99778.0</td>\n",
       "      <td>kg</td>\n",
       "    </tr>\n",
       "    <tr>\n",
       "      <th>516858</th>\n",
       "      <td>ASDA</td>\n",
       "      <td>Max Factor Brow Shaper 20 Brown</td>\n",
       "      <td>8.98</td>\n",
       "      <td>99778.0</td>\n",
       "      <td>kg</td>\n",
       "    </tr>\n",
       "    <tr>\n",
       "      <th>516878</th>\n",
       "      <td>ASDA</td>\n",
       "      <td>Max Factor Brow Shaper 10 Blonde</td>\n",
       "      <td>8.98</td>\n",
       "      <td>99778.0</td>\n",
       "      <td>kg</td>\n",
       "    </tr>\n",
       "    <tr>\n",
       "      <th>538380</th>\n",
       "      <td>ASDA</td>\n",
       "      <td>Max Factor Brow Shaper 30 Deep Brown</td>\n",
       "      <td>8.98</td>\n",
       "      <td>99778.0</td>\n",
       "      <td>kg</td>\n",
       "    </tr>\n",
       "  </tbody>\n",
       "</table>\n",
       "</div>"
      ],
      "text/plain": [
       "        supermarket                                   names  prices  \\\n",
       "8336288       Tesco   Lancashire Farm Whole Milk Yogurt 1Kg  150.00   \n",
       "8504816       Tesco   Lancashire Farm Whole Milk Yogurt 1Kg  150.00   \n",
       "7835671       Tesco  Scholl Fungal Nail Treatment Foot Care  421.05   \n",
       "471499         ASDA         Max Factor Brow Shaper 20 Brown    8.98   \n",
       "471501         ASDA    Max Factor Brow Shaper 30 Deep Brown    8.98   \n",
       "471526         ASDA        Max Factor Brow Shaper 10 Blonde    8.98   \n",
       "516849         ASDA    Max Factor Brow Shaper 30 Deep Brown    8.98   \n",
       "516858         ASDA         Max Factor Brow Shaper 20 Brown    8.98   \n",
       "516878         ASDA        Max Factor Brow Shaper 10 Blonde    8.98   \n",
       "538380         ASDA    Max Factor Brow Shaper 30 Deep Brown    8.98   \n",
       "\n",
       "         prices_unit unit  \n",
       "8336288     150000.0   kg  \n",
       "8504816     150000.0   kg  \n",
       "7835671     110803.5    l  \n",
       "471499       99778.0   kg  \n",
       "471501       99778.0   kg  \n",
       "471526       99778.0   kg  \n",
       "516849       99778.0   kg  \n",
       "516858       99778.0   kg  \n",
       "516878       99778.0   kg  \n",
       "538380       99778.0   kg  "
      ]
     },
     "execution_count": 22,
     "metadata": {},
     "output_type": "execute_result"
    }
   ],
   "source": [
    "print(\"Top 10 most expensive items by unit price: \")\n",
    "df.nlargest(10, \"prices_unit\")[[\"supermarket\", \"names\", \"prices\", \"prices_unit\", \"unit\"]]"
   ]
  },
  {
   "cell_type": "markdown",
   "id": "f660371f029c83b2",
   "metadata": {},
   "source": [
    "Hypothesis: Is this a 'price per 100g' vs 'price per kg' issue.\n",
    "For example, if an item is £10 for 100g, its price per kg would be £100.\n",
    "If it's £997.78 for 100g, its price per kg would be £99778.\n",
    "This looks like a unit conversion error during data scraping/generation.\n",
    "\n",
    "Solutions:\n",
    "1. Correct them if a clear pattern emerges.\n",
    "2. Remove them if they are clear, uncorrectable errors."
   ]
  },
  {
   "cell_type": "markdown",
   "id": "d4b2da6c73685f4d",
   "metadata": {},
   "source": [
    "### B. Investigating Zero and Missing Prices"
   ]
  },
  {
   "cell_type": "code",
   "execution_count": 26,
   "id": "7b1a56f65d204f7d",
   "metadata": {
    "ExecuteTime": {
     "end_time": "2025-06-18T19:52:43.431754Z",
     "start_time": "2025-06-18T19:52:43.389738Z"
    }
   },
   "outputs": [
    {
     "name": "stdout",
     "output_type": "stream",
     "text": [
      "Number of items with price = 0: 3\n",
      "Examples of items with price = 0:\n",
      "        supermarket  prices  prices_unit unit  \\\n",
      "7789212       Tesco     0.0          NaN  NaN   \n",
      "8086680       Tesco     0.0          0.0   kg   \n",
      "8854571       Tesco     0.0          NaN  NaN   \n",
      "\n",
      "                                                names       date  \\\n",
      "7789212                       Tesco Peppered Ham 120g 2024-03-25   \n",
      "8086680  Tahira Chicken Smoked Sausages Hot Dogs 500G 2024-03-11   \n",
      "8854571  Twix Multipack Chocolate Bars Biscuits 9x20g 2024-02-08   \n",
      "\n",
      "              category  own_brand  \n",
      "7789212     fresh_food       True  \n",
      "8086680  food_cupboard      False  \n",
      "8854571  food_cupboard      False  \n"
     ]
    }
   ],
   "source": [
    "print(f\"Number of items with price = 0: {len(df[df[\"prices\"] == 0])}\")\n",
    "print(\"Examples of items with price = 0:\")\n",
    "print(df[df[\"prices\"] == 0].head())\n",
    "# Hypothesis: These could be data errors or \"buy one get one free\" type promotions where the free item is listed at 0."
   ]
  },
  {
   "cell_type": "code",
   "execution_count": 30,
   "id": "478262d0fa6fd28f",
   "metadata": {
    "ExecuteTime": {
     "end_time": "2025-06-18T19:58:30.312613Z",
     "start_time": "2025-06-18T19:58:30.275757Z"
    }
   },
   "outputs": [
    {
     "name": "stdout",
     "output_type": "stream",
     "text": [
      "Number of items with prices_unit = 0: 12596\n",
      "Number of items with missing prices_unit: 524\n",
      "\n",
      "Units for items with prices_unit = 0:\n",
      "unit\n",
      "unit    10565\n",
      "kg       1687\n",
      "m         179\n",
      "l         165\n",
      "Name: count, dtype: int64\n"
     ]
    }
   ],
   "source": [
    "# Investigating missng/zero price_unit\n",
    "print(f\"Number of items with prices_unit = 0: {len(df[df[\"prices_unit\"] == 0])}\")\n",
    "print(f\"Number of items with missing prices_unit: {df[\"prices_unit\"].isnull().sum()}\")\n",
    "\n",
    "print(\"\\nUnits for items with prices_unit = 0:\")\n",
    "print(df[df[\"prices_unit\"] == 0][\"unit\"].value_counts().head())"
   ]
  },
  {
   "cell_type": "markdown",
   "id": "da9815e4ba10a549",
   "metadata": {},
   "source": [
    "### C. Product Name Standardisation"
   ]
  },
  {
   "cell_type": "code",
   "execution_count": 33,
   "id": "d837c2ee6efb06dd",
   "metadata": {
    "ExecuteTime": {
     "end_time": "2025-06-18T20:02:18.660426Z",
     "start_time": "2025-06-18T20:02:11.045743Z"
    }
   },
   "outputs": [
    {
     "name": "stdout",
     "output_type": "stream",
     "text": [
      "Total unique product names: 127226\n",
      "\n",
      "Examples of 'milk' product names: \n",
      "['Kingfisher Oriental Coconut Milk Rich & Creamy 200Ml', 'Cravendale Filtered Fresh Whole Milk Fresher for Longer', 'Nesquik Banana Flavour Milkshake Mix', 'Tesco Milk Chocolate Turkish Delight Thins 180G', 'Milky Way Dairy Free Magic Stars 25g', 'Milkybar Milk Slice', 'Mars Chocolate Milk Shake Drink No Added Sugar', 'Cravendale Filtered Fresh Semi Skimmed Milk Fresher for Longer 3L', 'Nesquik Chocolate Milkshake Powder Tub 500g', 'Cadbury dairy milk chocolate buttons twisted']\n"
     ]
    }
   ],
   "source": [
    "print(f\"Total unique product names: {df[\"names\"].nunique()}\")\n",
    "\n",
    "# Look at some examples of common product\n",
    "print(\"\\nExamples of 'milk' product names: \")\n",
    "print(df[df[\"names\"].str.contains(\"milk\", case=False, na=False)][\"names\"].sample(10).tolist())"
   ]
  },
  {
   "cell_type": "code",
   "execution_count": 34,
   "id": "81e2d996ed5b29f8",
   "metadata": {
    "ExecuteTime": {
     "end_time": "2025-06-18T20:05:17.564514Z",
     "start_time": "2025-06-18T20:05:10.822055Z"
    }
   },
   "outputs": [
    {
     "name": "stdout",
     "output_type": "stream",
     "text": [
      "Cleaned data saved to C:/Project/UK store analysis/data/01_interim/cleaned_supermarket_data.parquet\n"
     ]
    }
   ],
   "source": [
    "# Save the cleaned dataset\n",
    "os.makedirs(INTERIM_PATH, exist_ok=True)\n",
    "\n",
    "file_path = os.path.join(INTERIM_PATH, \"cleaned_supermarket_data.parquet\")\n",
    "df.to_parquet(file_path)\n",
    "\n",
    "print(f\"Cleaned data saved to {file_path}\")"
   ]
  },
  {
   "cell_type": "markdown",
   "id": "b306ada011a2515c",
   "metadata": {},
   "source": [
    "1. The prices_unit Outliers are Real (Mostly!): nlargest output is a goldmine.\n",
    "\n",
    "* Scholl Fungal Nail Treatment & Max Factor Brow Shaper: The extremely high prices_unit are due to very expensive products sold in tiny quantities (milliliters or grams). A price of £8.98 for a 0.09g brow shaper results in a per-kg price of ~£99,778. This is correct math, not bad data. It highlights an important feature of the dataset: we must be careful when comparing unit prices across categories (e.g., cosmetics vs. potatoes).\n",
    "\n",
    "* Lancashire Farm Yogurt: This is the real data error. A 1Kg yogurt would not cost £150.00. It's overwhelmingly likely that the price should be £1.50 and was entered incorrectly (perhaps in pence, or a misplaced decimal). This single finding is a fantastic demonstration of data validation. \n",
    "\n",
    "2. Zero/Missing Prices are Understood:\n",
    "* price = 0: Very rare (3 instances), likely data errors or specific promotions. Negligible impact.\n",
    "* prices_unit = 0 or NaN: Mostly for items sold by 'unit' (each), which is logical."
   ]
  },
  {
   "cell_type": "markdown",
   "id": "d8635bb9",
   "metadata": {},
   "source": []
  }
 ],
 "metadata": {
  "kernelspec": {
   "display_name": "Python 3",
   "language": "python",
   "name": "python3"
  },
  "language_info": {
   "codemirror_mode": {
    "name": "ipython",
    "version": 2
   },
   "file_extension": ".py",
   "mimetype": "text/x-python",
   "name": "python",
   "nbconvert_exporter": "python",
   "pygments_lexer": "ipython2",
   "version": "2.7.6"
  }
 },
 "nbformat": 4,
 "nbformat_minor": 5
}
